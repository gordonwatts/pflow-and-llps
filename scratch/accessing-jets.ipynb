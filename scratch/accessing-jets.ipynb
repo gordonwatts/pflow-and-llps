{
 "cells": [
  {
   "attachments": {},
   "cell_type": "markdown",
   "metadata": {},
   "source": [
    "# Accessing Variables in Jets & MC\n",
    "\n",
    "This short notebook shows how to access jets and MC particles in a dataset so that you can get the awkward information local.\n",
    "\n",
    "Some of this code is common and may be best put into files to be separate libraries or modules."
   ]
  },
  {
   "attachments": {},
   "cell_type": "markdown",
   "metadata": {},
   "source": [
    "## Datasets\n",
    "\n",
    "We'll have two datasets here (we can get more if we want).\n",
    "\n",
    "* `dijet` - These are simple QCD 2-jet production runs. These are very much Standard Model events. The dataset is actually HUGE. I've limited it to 20 files worth of events, but you can increase it if you want. But the first query will take a lot longer if you do that!\n",
    "* `llp` - These are Hidden Valley (a type of Hidden Sector) simulation. They contain the long lived particles we are interested in. And this is where you'll do most of your testing."
   ]
  },
  {
   "cell_type": "code",
   "execution_count": 14,
   "metadata": {},
   "outputs": [],
   "source": [
    "ds_dijet_rucio = \"rucio://mc16_13TeV.361022.Pythia8EvtGen_A14NNPDF23LO_jetjet_JZ2W.deriv.DAOD_EXOT15.e3668_s3126_r9364_r9315_p4696?files=20&get=available\"\n",
    "ds_llp_rucio = \"rucio://mc16_13TeV.311423.MGPy8EG_A14NNPDF23_NNPDF31ME_HSS_LLP_mH600_mS150_lthigh.deriv.DAOD_EXOT15.e7357_e5984_s3234_r10201_r10210_p4696\""
   ]
  },
  {
   "attachments": {},
   "cell_type": "markdown",
   "metadata": {},
   "source": [
    "Create the datasets"
   ]
  },
  {
   "cell_type": "code",
   "execution_count": 15,
   "metadata": {},
   "outputs": [],
   "source": [
    "from func_adl_servicex_xaodr21 import SXDSAtlasxAODR21, calib_tools\n",
    "ds_dijet = SXDSAtlasxAODR21(ds_dijet_rucio)\n",
    "ds_llp = SXDSAtlasxAODR21(ds_llp_rucio)"
   ]
  },
  {
   "attachments": {},
   "cell_type": "markdown",
   "metadata": {},
   "source": [
    "## Accessing the AntiKt4 jets & PFLow jets\n"
   ]
  },
  {
   "attachments": {},
   "cell_type": "markdown",
   "metadata": {},
   "source": [
    "Everything in ATLAS is stored as a collection _name_. There are two for the particle flow and the antikt4 jets:"
   ]
  },
  {
   "cell_type": "code",
   "execution_count": null,
   "metadata": {},
   "outputs": [],
   "source": [
    "jets_pflow_name = \"AntiKt4EMPFlowJets\"\n",
    "jets_antikt_name = \"AntiKt4EMTopoJets\""
   ]
  },
  {
   "attachments": {},
   "cell_type": "markdown",
   "metadata": {},
   "source": [
    "Lets get the two types of jets."
   ]
  },
  {
   "cell_type": "code",
   "execution_count": null,
   "metadata": {},
   "outputs": [],
   "source": [
    "jets_pflow = (\n",
    "    ds_dijet.Select(lambda e: e.Jets(uncalibrated_collection=jets_pflow_name))\n",
    "    .Select(lambda e: e.Where(lambda j: (j.pt() / 1000) > 30))\n",
    "    .Select(lambda e: e.Select(lambda j: (j.pt() / 1000)))\n",
    "    .AsAwkwardArray(\"JetPt\")\n",
    "    .value()\n",
    ")\n",
    "\n",
    "jets_antikt = (\n",
    "    ds_dijet.Select(lambda e: e.Jets(uncalibrated_collection=jets_antikt_name))\n",
    "    .Select(lambda e: e.Where(lambda j: (j.pt() / 1000) > 30))\n",
    "    .Select(lambda e: e.Select(lambda j: (j.pt() / 1000)))\n",
    "    .AsAwkwardArray(\"JetPt\")\n",
    "    .value()\n",
    ")"
   ]
  },
  {
   "attachments": {},
   "cell_type": "markdown",
   "metadata": {},
   "source": [
    "Do a quick plot of the number of jets in each event that is about 30 GeV:"
   ]
  },
  {
   "cell_type": "code",
   "execution_count": null,
   "metadata": {},
   "outputs": [],
   "source": [
    "from matplotlib import pyplot as plt\n",
    "import awkward as ak\n",
    "\n",
    "plt.hist(ak.count(jets_pflow['JetPt'], axis=-1), bins=10, range=(0, 10), label='PFlow', histtype='step')\n",
    "plt.hist(ak.count(jets_antikt['JetPt'], axis=-1), bins=10, range=(0, 10), label='AntiKt', histtype='step')\n",
    "plt.xlabel('Number of jets')\n",
    "plt.ylabel('Number of events')\n",
    "plt.title('DiJet MonteCarlos (JZ2W)')\n",
    "plt.legend()\n",
    "plt.show()\n"
   ]
  },
  {
   "attachments": {},
   "cell_type": "markdown",
   "metadata": {},
   "source": [
    "## Monte Carlo Particles\n",
    "\n",
    "**NOTHING BELOW HERE WORKS**\n",
    "\n",
    "Next, lets go after the MC particles. For this we need to look at an actual LLP dataset. Every particle has an ID, and for the LLP it is number 35. And that is the only one we are interested in looking at. To see what other possible particleID numbers are, check out the Particle Data Group's pdgID tables."
   ]
  },
  {
   "cell_type": "code",
   "execution_count": 16,
   "metadata": {},
   "outputs": [
    {
     "data": {
      "application/json": {
       "ascii": false,
       "bar_format": "{l_bar}{bar}| {n_fmt}/{total_fmt} [{elapsed}]",
       "colour": null,
       "elapsed": 0.012831687927246094,
       "initial": 0,
       "n": 0,
       "ncols": 212,
       "nrows": 50,
       "postfix": null,
       "prefix": "rucio://mc16_13TeV.3...",
       "rate": null,
       "total": 9000000000,
       "unit": "file",
       "unit_divisor": 1000,
       "unit_scale": false
      },
      "application/vnd.jupyter.widget-view+json": {
       "model_id": "e0151e41e2294eccb92613d80fbfbc19",
       "version_major": 2,
       "version_minor": 0
      },
      "text/plain": [
       "rucio://mc16_13TeV.3...:   0%|                                                                                …"
      ]
     },
     "metadata": {},
     "output_type": "display_data"
    },
    {
     "data": {
      "application/json": {
       "ascii": false,
       "bar_format": "{l_bar}{bar}| {n_fmt}/{total_fmt} [{elapsed}]",
       "colour": null,
       "elapsed": 0.01183629035949707,
       "initial": 0,
       "n": 0,
       "ncols": 212,
       "nrows": 50,
       "postfix": null,
       "prefix": "        rucio://mc16_13TeV.3... Downloaded",
       "rate": null,
       "total": 9000000000,
       "unit": "file",
       "unit_divisor": 1000,
       "unit_scale": false
      },
      "application/vnd.jupyter.widget-view+json": {
       "model_id": "82e1b671263f42ff8613f33974dcab57",
       "version_major": 2,
       "version_minor": 0
      },
      "text/plain": [
       "        rucio://mc16_13TeV.3... Downloaded:   0%|                                                             …"
      ]
     },
     "metadata": {},
     "output_type": "display_data"
    }
   ],
   "source": [
    "llp_particles = (ds_llp\n",
    "                 .SelectMany(lambda e: e.TruthParticles(\"TruthParticles\"))\n",
    "                 .Where(lambda tp: (tp.pt() / 1000) > 10)\n",
    "                 .Where(lambda tp: abs(tp.pdgId()) == 35)\n",
    "                 .Select(lambda tp: {\n",
    "                         'pt': tp.pt() / 1000.0,\n",
    "                         'pdgId': tp.pdgId(),\n",
    "                 })\n",
    "                 .AsAwkwardArray()\n",
    "                 .value()\n",
    ")"
   ]
  },
  {
   "attachments": {},
   "cell_type": "markdown",
   "metadata": {},
   "source": [
    "Look at how many events were in this dataset - close to the nominal 100,000:"
   ]
  },
  {
   "cell_type": "code",
   "execution_count": 18,
   "metadata": {},
   "outputs": [
    {
     "data": {
      "text/plain": [
       "(<Array [{pt: 320, pdgId: 35}, ... pdgId: 35}] type='99915 * {\"pt\": float64, \"pdg...'>,\n",
       " 99915)"
      ]
     },
     "execution_count": 18,
     "metadata": {},
     "output_type": "execute_result"
    }
   ],
   "source": [
    "llp_particles, len(llp_particles)"
   ]
  },
  {
   "attachments": {},
   "cell_type": "markdown",
   "metadata": {},
   "source": [
    "And the $p_T$ of the LLP - which really depends on the mass difference between the scalar and the decaying LLP. From the name of the dataset used above: `_mH600_mS150_`, it is a $m_\\Phi=600$ and a $m_{LLP} = 150$."
   ]
  },
  {
   "cell_type": "code",
   "execution_count": 21,
   "metadata": {},
   "outputs": [
    {
     "data": {
      "image/png": "[encoded data removed]",
      "text/plain": [
       "<Figure size 640x480 with 1 Axes>"
      ]
     },
     "metadata": {},
     "output_type": "display_data"
    }
   ],
   "source": [
    "from matplotlib import pyplot as plt\n",
    "import awkward as ak\n",
    "\n",
    "plt.hist(llp_particles.pt, bins=50)\n",
    "plt.xlabel('$p_T$ [GeV]')\n",
    "plt.ylabel('Number of events')\n",
    "plt.title('Long Lived Particle')\n",
    "\n",
    "plt.show()"
   ]
  }
 ],
 "metadata": {
  "kernelspec": {
   "display_name": "base",
   "language": "python",
   "name": "python3"
  },
  "language_info": {
   "codemirror_mode": {
    "name": "ipython",
    "version": 3
   },
   "file_extension": ".py",
   "mimetype": "text/x-python",
   "name": "python",
   "nbconvert_exporter": "python",
   "pygments_lexer": "ipython3",
   "version": "3.8.13"
  },
  "orig_nbformat": 4,
  "vscode": {
   "interpreter": {
    "hash": "d4d1e4263499bec80672ea0156c357c1ee493ec2b1c70f0acce89fc37c4a6abe"
   }
  }
 },
 "nbformat": 4,
 "nbformat_minor": 2
}
